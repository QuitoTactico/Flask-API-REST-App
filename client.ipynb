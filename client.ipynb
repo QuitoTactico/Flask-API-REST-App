{
 "cells": [
  {
   "cell_type": "code",
   "execution_count": 1,
   "metadata": {},
   "outputs": [],
   "source": [
    "import requests"
   ]
  },
  {
   "cell_type": "markdown",
   "metadata": {},
   "source": [
    "## GETs"
   ]
  },
  {
   "cell_type": "code",
   "execution_count": 4,
   "metadata": {},
   "outputs": [
    {
     "data": {
      "text/plain": [
       "{'stores': [{'items': [{'name': 'Chair', 'price': 15.99}], 'name': 'My Store'},\n",
       "  {'items': [], 'name': 'Nueva Tienda'},\n",
       "  {'Items': [{'name': 'niño', 'price': 0}], 'name': 'Tienda Hackeada'}]}"
      ]
     },
     "execution_count": 4,
     "metadata": {},
     "output_type": "execute_result"
    }
   ],
   "source": [
    "# all stores\n",
    "url = \"http://127.0.0.1:5000/store\"\n",
    "if not url: url = input()\n",
    "\n",
    "data_sent = {}\n",
    "headers = {}\n",
    "\n",
    "response = requests.request(\"GET\", url, headers=headers, json=data_sent)\n",
    "\n",
    "data = response.json()\n",
    "\n",
    "data"
   ]
  },
  {
   "cell_type": "code",
   "execution_count": 27,
   "metadata": {},
   "outputs": [
    {
     "data": {
      "text/plain": [
       "{'items': [{'name': 'Chair', 'price': 15.99}], 'name': 'My Store'}"
      ]
     },
     "execution_count": 27,
     "metadata": {},
     "output_type": "execute_result"
    }
   ],
   "source": [
    "# a specific store\n",
    "url = \"http://127.0.0.1:5000/store/My Store\"\n",
    "if not url: url = input()\n",
    "\n",
    "data_sent = {}\n",
    "headers = {}\n",
    "\n",
    "response = requests.request(\"GET\", url, headers=headers, json=data_sent)\n",
    "\n",
    "data = response.json()\n",
    "\n",
    "data"
   ]
  },
  {
   "cell_type": "code",
   "execution_count": 28,
   "metadata": {},
   "outputs": [
    {
     "data": {
      "text/plain": [
       "{'items': [{'name': 'Chair', 'price': 15.99}]}"
      ]
     },
     "execution_count": 28,
     "metadata": {},
     "output_type": "execute_result"
    }
   ],
   "source": [
    "# a specific store items\n",
    "url = \"http://127.0.0.1:5000/store/My Store/item\"\n",
    "if not url: url = input()\n",
    "\n",
    "data_sent = {}\n",
    "headers = {}\n",
    "\n",
    "response = requests.request(\"GET\", url, headers=headers, json=data_sent)\n",
    "\n",
    "data = response.json()\n",
    "\n",
    "data"
   ]
  },
  {
   "cell_type": "markdown",
   "metadata": {},
   "source": [
    "## POSTs"
   ]
  },
  {
   "cell_type": "code",
   "execution_count": 3,
   "metadata": {},
   "outputs": [
    {
     "data": {
      "text/plain": [
       "{'items': [], 'name': 'Nueva Tienda'}"
      ]
     },
     "execution_count": 3,
     "metadata": {},
     "output_type": "execute_result"
    }
   ],
   "source": [
    "# create new store\n",
    "url = \"http://127.0.0.1:5000/store\"\n",
    "if not url: url = input()\n",
    "\n",
    "data_sent = {\"name\": \"Nueva Tienda\"}\n",
    "headers = {}\n",
    "\n",
    "response = requests.request(\"POST\", url, headers=headers, json=data_sent)\n",
    "\n",
    "data = response.json()\n",
    "\n",
    "data"
   ]
  },
  {
   "cell_type": "code",
   "execution_count": 5,
   "metadata": {},
   "outputs": [
    {
     "data": {
      "text/plain": [
       "{'name': 'Table', 'price': 89.99}"
      ]
     },
     "execution_count": 5,
     "metadata": {},
     "output_type": "execute_result"
    }
   ],
   "source": [
    "# create item for a store\n",
    "url = \"http://127.0.0.1:5000/store/Nueva Tienda/item\"\n",
    "if not url: url = input()\n",
    "\n",
    "data_sent = {\"name\": \"Table\", 'price': 89.99}\n",
    "headers = {}\n",
    "\n",
    "response = requests.request(\"POST\", url, headers=headers, json=data_sent)\n",
    "\n",
    "data = response.json()\n",
    "\n",
    "data"
   ]
  }
 ],
 "metadata": {
  "kernelspec": {
   "display_name": "Python 3",
   "language": "python",
   "name": "python3"
  },
  "language_info": {
   "codemirror_mode": {
    "name": "ipython",
    "version": 3
   },
   "file_extension": ".py",
   "mimetype": "text/x-python",
   "name": "python",
   "nbconvert_exporter": "python",
   "pygments_lexer": "ipython3",
   "version": "3.13.2"
  }
 },
 "nbformat": 4,
 "nbformat_minor": 2
}
